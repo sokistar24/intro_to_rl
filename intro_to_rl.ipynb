{
 "cells": [
  {
   "cell_type": "markdown",
   "id": "15b30607-40c3-47a6-a1e7-a6f3c505f9b0",
   "metadata": {},
   "source": [
    "# Lesson Outline\n",
    "- Brief Intro to Reinforcement Learning\n",
    "- What is Gymnasium\n",
    "- Frozen Lake Challenge\n",
    "- Q Learning\n",
    "- The Exploration and Exploitation Dilemma\n",
    "- Extra (Deep Reinforcement Learning)\n",
    "\n"
   ]
  },
  {
   "cell_type": "markdown",
   "id": "ca1d7213-a4b0-4b1a-8437-bb0d7b3a9f7c",
   "metadata": {},
   "source": [
    "| ![image](images/intro_image.png \"Intro_to_RL\") |\n",
    "|:---:|\n"
   ]
  },
  {
   "cell_type": "code",
   "execution_count": null,
   "id": "f2710e7d-55c8-419c-9a28-7e03a9dd7be1",
   "metadata": {
    "tags": []
   },
   "outputs": [],
   "source": [
    "# https://gymnasium.farama.org/"
   ]
  },
  {
   "cell_type": "code",
   "execution_count": 4,
   "id": "72204d84-59be-4fef-b037-67fb143f8833",
   "metadata": {
    "tags": []
   },
   "outputs": [],
   "source": [
    "import gymnasium as gym\n",
    "import numpy as np\n",
    "import matplotlib.pyplot as plt\n",
    "import time"
   ]
  },
  {
   "cell_type": "markdown",
   "id": "0ae7867e-28af-486f-863c-349b8ff4d5b2",
   "metadata": {},
   "source": [
    "# The Frozen Lake Challenge \n"
   ]
  },
  {
   "cell_type": "markdown",
   "id": "e2558696-e53b-4b79-a5ca-cf1281f744b8",
   "metadata": {},
   "source": [
    "<div style=\"text-align: center;\">\n",
    "  <img src=\"images/frozen_lake.png\" alt=\"Frozen Lake\" title=\"Frozen Lake\" width=\"500\" height=\"auto\" />\n",
    "</div>\n",
    "\n"
   ]
  },
  {
   "cell_type": "code",
   "execution_count": 7,
   "id": "9c36d3e1-778e-46cb-854c-53a4ea24a6d3",
   "metadata": {
    "tags": []
   },
   "outputs": [],
   "source": [
    "env=gym.make('FrozenLake-v1', desc=None, map_name=\"4x4\", is_slippery=False,render_mode='human')"
   ]
  },
  {
   "cell_type": "code",
   "execution_count": 6,
   "id": "bf9459c3-6e1a-4ec0-8b03-a945d3220ebf",
   "metadata": {
    "tags": []
   },
   "outputs": [],
   "source": [
    "env.reset()\n",
    "for step in range(24):\n",
    "    \n",
    "    env.render()\n",
    "    action = env.action_space.sample() # cart accelerates to the right\n",
    "    observation,reward,terminated,truncated,info = env.step(action)\n",
    "    time.sleep(0.5)\n",
    "    if terminated or truncated:\n",
    "        env.reset()\n",
    "env.close()\n"
   ]
  },
  {
   "cell_type": "code",
   "execution_count": 20,
   "id": "5a46174d-e299-4c70-8bd9-21aab11b2eb9",
   "metadata": {
    "tags": []
   },
   "outputs": [],
   "source": [
    "action_size = env.action_space.n\n",
    "state_size = env.observation_space.n\n",
    "q_table = np.zeros([state_size,action_size])"
   ]
  },
  {
   "cell_type": "markdown",
   "id": "d6707721-516c-44bb-90f4-e0cc3416a679",
   "metadata": {},
   "source": [
    "# Q Table"
   ]
  },
  {
   "cell_type": "markdown",
   "id": "420bdb1f-18bd-4324-b6ac-8801ecc65b2b",
   "metadata": {},
   "source": [
    "<div style=\"text-align: center;\">\n",
    "  <img src=\"images/Q_table.png\" alt=\"Frozen Lake\" title=\"Frozen Lake\" width=\"500\" height=\"auto\" />\n",
    "</div>\n",
    "\n"
   ]
  },
  {
   "cell_type": "markdown",
   "id": "19cad9dd-b9ab-40ae-b074-472da2ed0146",
   "metadata": {},
   "source": [
    "# Updating Q Table"
   ]
  },
  {
   "cell_type": "markdown",
   "id": "4b222798-21fe-44e5-a271-2a96a2d04886",
   "metadata": {},
   "source": [
    "$$\n",
    "Q(s_t, a_t) \\leftarrow Q(s_t, a_t) + \\alpha [r_{t+1} + \\gamma \\max_{a} Q(s_{t+1}, a) - Q(s_t, a_t)]\n",
    "$$\n"
   ]
  },
  {
   "cell_type": "markdown",
   "id": "3762ae89-0b7e-409c-8b71-b5fe8e369049",
   "metadata": {},
   "source": [
    "$$\n",
    "Q_{new} \\leftarrow Q_{current} +\\alpha( error)\n",
    "$$"
   ]
  },
  {
   "cell_type": "markdown",
   "id": "5bb03f64-2c07-4aeb-aa53-ffeec4a6e02e",
   "metadata": {},
   "source": [
    "$$\n",
    "Q_{new} \\leftarrow Q_{current} +\\alpha[Q_{target}-Q_{current}]\n",
    "$$"
   ]
  },
  {
   "cell_type": "markdown",
   "id": "a4115d17-2a88-4e67-a842-a69d91bd7964",
   "metadata": {},
   "source": [
    "$$\n",
    "{Q_{\\text{target}}(s_t, a_t) = r_t + \\gamma \\sum_{k=1}^{\\infty} \\gamma^{k-1} r_{t+k}}\n",
    "$$\n"
   ]
  },
  {
   "cell_type": "markdown",
   "id": "28a466a6-607b-4cdb-9280-4893aff271b0",
   "metadata": {
    "tags": []
   },
   "source": [
    "$$\n",
    "Q_{\\text{target}}(s_t, a_t) = r_t + \\gamma * r_{t+1} + \\gamma^2 * r_{t+2} + \\gamma^3 * r_{t+3} + \\cdots\n",
    "$$\n"
   ]
  },
  {
   "cell_type": "markdown",
   "id": "3b0c5c97-5837-4bf5-9d31-768997a57e06",
   "metadata": {},
   "source": [
    "$$\n",
    "Q_{\\text{target}}(s_t, a_t) = r_{t+1} + \\gamma \\max_{a} Q(s_{t+1}, a)\n",
    "$$\n"
   ]
  },
  {
   "cell_type": "code",
   "execution_count": 9,
   "id": "9747ca9d-1b79-4398-b0fe-c33fab8e616f",
   "metadata": {},
   "outputs": [],
   "source": [
    "\n",
    "ALPHA=0.8\n",
    "GAMMA = 0.9\n"
   ]
  },
  {
   "cell_type": "code",
   "execution_count": 10,
   "id": "9b6c78d5-7221-49ce-bd3e-8f39e009155f",
   "metadata": {},
   "outputs": [],
   "source": [
    "def compute_next_q_value(old_q_value,reward,next_optimal_q_value):\n",
    "    \n",
    "    return old_q_value + ALPHA * (reward + GAMMA*next_optimal_q_value - old_q_value)"
   ]
  },
  {
   "cell_type": "markdown",
   "id": "57d0ccb6-c416-4c39-a76b-78b46a6f0b0c",
   "metadata": {
    "tags": []
   },
   "source": [
    "# The Exploration Exploitation Dilema"
   ]
  },
  {
   "cell_type": "markdown",
   "id": "e3841c0f-d1f2-4a3e-984d-454e0f0791dd",
   "metadata": {},
   "source": [
    "$$\n",
    "a_t =\n",
    "\\begin{cases}\n",
    "\\text{argmax}_{a} Q(s_t, a), & \\text{with probability } 1 - \\epsilon_t \\\\\n",
    "\\text{random action}, & \\text{with probability } \\epsilon_t\n",
    "\\end{cases}\n",
    "$$\n",
    "\n",
    "$$\n",
    "\\epsilon_t = \\epsilon_{\\text{min}} + (\\epsilon_{\\text{max}} - \\epsilon_{\\text{min}}) \\cdot e^{-\\text{decay rate} \\cdot t}\n",
    "$$\n"
   ]
  },
  {
   "cell_type": "code",
   "execution_count": 13,
   "id": "0fd993c9-6467-4f43-9523-7610f6c0bd99",
   "metadata": {},
   "outputs": [],
   "source": [
    "epsilon = 1.0\n",
    "max_epsilon = 1.0\n",
    "min_epsilon = 0.01\n",
    "decay_rate = 0.001\n",
    "epoch = 20000"
   ]
  },
  {
   "cell_type": "code",
   "execution_count": 14,
   "id": "37df21b9-4b2e-4448-a055-18472302f009",
   "metadata": {},
   "outputs": [],
   "source": [
    "\n",
    "def epsilon_greedy_action_selection(epsilon,q_table,discrete_state):\n",
    "    \n",
    "    random_number = np.random.random()\n",
    "    \n",
    "    if random_number > epsilon:\n",
    "        \n",
    "        state_row = q_table[discrete_state,:]\n",
    "        \n",
    "        action = np.argmax(state_row)\n",
    "        \n",
    "    else:\n",
    "        action = env.action_space.sample()\n",
    "    return action"
   ]
  },
  {
   "cell_type": "markdown",
   "id": "b5f2a4d7-8702-4b68-a607-7d7904459d18",
   "metadata": {},
   "source": [
    "$$\n",
    "\\epsilon_t = \\epsilon_{\\text{min}} + (\\epsilon_{\\text{max}} - \\epsilon_{\\text{min}}) \\cdot e^{-\\text{decay rate} \\cdot t}\n",
    "$$"
   ]
  },
  {
   "cell_type": "code",
   "execution_count": 22,
   "id": "a73f9331-0085-42e4-9eba-f1dd43575b42",
   "metadata": {
    "tags": []
   },
   "outputs": [],
   "source": [
    "min_epsilon = 0.01\n",
    "max_epsilon = 1.0\n",
    "decay_rate = 0.005"
   ]
  },
  {
   "cell_type": "code",
   "execution_count": 23,
   "id": "1aff625d-e415-4b27-9ee6-9c5c622d2982",
   "metadata": {},
   "outputs": [],
   "source": [
    "def reduce_epsilon(epsilon,epoch):\n",
    "    \n",
    "    return min_epsilon + (max_epsilon-min_epsilon)*np.exp(-decay_rate * epoch)"
   ]
  },
  {
   "cell_type": "code",
   "execution_count": 24,
   "id": "2ad5d69a-0dbd-4fdb-9607-09f79c18279d",
   "metadata": {},
   "outputs": [
    {
     "data": {
      "image/png": "[encoded data removed]",
      "text/plain": [
       "<Figure size 640x480 with 1 Axes>"
      ]
     },
     "metadata": {},
     "output_type": "display_data"
    }
   ],
   "source": [
    "\n",
    "epochs = np.arange(1, 500)\n",
    "epsilons = [reduce_epsilon(epsilon, epoch) for epoch in epochs]\n",
    "\n",
    "plt.plot(epochs, epsilons)\n",
    "plt.xlabel('Epoch')\n",
    "plt.ylabel('Epsilon')\n",
    "plt.title('Epsilon Decay')\n",
    "plt.grid()\n",
    "plt.show()\n",
    "\n"
   ]
  },
  {
   "cell_type": "markdown",
   "id": "46a0f8c0-6b01-48c5-a17f-3b34f12fd955",
   "metadata": {},
   "source": [
    "# Training the Agent "
   ]
  },
  {
   "cell_type": "code",
   "execution_count": 25,
   "id": "4e341ebd-569c-48d7-b46c-4cd688a2a0bf",
   "metadata": {
    "tags": []
   },
   "outputs": [],
   "source": [
    "env=gym.make('FrozenLake-v1', desc=None, map_name=\"4x4\", is_slippery=False)"
   ]
  },
  {
   "cell_type": "code",
   "execution_count": 26,
   "id": "e7d25207-1252-4a4c-9a6c-061b47dd0a36",
   "metadata": {
    "tags": []
   },
   "outputs": [
    {
     "name": "stdout",
     "output_type": "stream",
     "text": [
      "rewards at episode 1000, is 664.0\n",
      "rewards at episode 2000, is 1655.0\n",
      "rewards at episode 3000, is 2641.0\n",
      "rewards at episode 4000, is 3627.0\n",
      "rewards at episode 5000, is 4619.0\n",
      "rewards at episode 6000, is 5610.0\n",
      "rewards at episode 7000, is 6601.0\n",
      "rewards at episode 8000, is 7593.0\n",
      "rewards at episode 9000, is 8587.0\n",
      "rewards at episode 10000, is 9572.0\n",
      "rewards at episode 11000, is 10562.0\n",
      "rewards at episode 12000, is 11550.0\n",
      "rewards at episode 13000, is 12536.0\n",
      "rewards at episode 14000, is 13526.0\n",
      "rewards at episode 15000, is 14514.0\n",
      "rewards at episode 16000, is 15506.0\n",
      "rewards at episode 17000, is 16495.0\n",
      "rewards at episode 18000, is 17490.0\n",
      "rewards at episode 19000, is 18483.0\n",
      "rewards at episode 20000, is 19469.0\n"
     ]
    }
   ],
   "source": [
    "# implementation of the q_value\n",
    "env.reset()\n",
    "rewards = []\n",
    "\n",
    "\n",
    "log_interval = 1000\n",
    "#######################\n",
    "#fig = plt.figure()\n",
    "#ax = fig.add_subplot(111)\n",
    "#plt.ion()\n",
    "#fig.canvas.draw()\n",
    "epoch_plot_tracker = []\n",
    "total_reward_plot_tracker = []\n",
    "\n",
    "#############################\n",
    "for episode in range (epoch):\n",
    "    \n",
    "    state,info = env.reset()\n",
    "    done = False \n",
    "    total_rewards = 0\n",
    "    \n",
    "    while not done:\n",
    "        \n",
    "        # Action\n",
    "        action = epsilon_greedy_action_selection(epsilon,q_table,state)\n",
    "        \n",
    "        # state,reward ... env.step()\n",
    "        new_state,reward,done,info,_ = env.step(action)\n",
    " \n",
    "        # OLD (current) Q VALUE \n",
    "        #print(new_state)\n",
    "        #print(action)\n",
    "        old_q_value = q_table[state,action]\n",
    "        # Get next optimal Q value\n",
    "        \n",
    "        next_optimal_q_value = np.max(q_table[new_state,:])\n",
    "        # compute the next q value\n",
    "        \n",
    "        next_q = compute_next_q_value(old_q_value,reward,next_optimal_q_value)\n",
    "        # update the table \n",
    "        q_table[state,action] = next_q\n",
    "        # track rewards\n",
    "        \n",
    "        total_rewards = total_rewards + reward\n",
    "        \n",
    "        state = new_state\n",
    "    # Agent finished a round of the game \n",
    "    episode += 1\n",
    "    \n",
    "    epsilon = reduce_epsilon(epsilon,episode)\n",
    "    \n",
    "    rewards.append(total_rewards)\n",
    "    total_reward_plot_tracker.append(np.sum(rewards))\n",
    "    epoch_plot_tracker.append(episode)\n",
    "    #########################################\n",
    "    if episode % log_interval == 0:\n",
    "      \n",
    "        \n",
    "        print(f'rewards at episode {episode}, is {np.sum(rewards)}')\n",
    "        total_reward_plot_tracker.append(np.sum(rewards))\n",
    "        epoch_plot_tracker.append(episode)\n",
    "        #print(np.sum(rewards))\n",
    "    ########################################\n",
    "        \n",
    "env.close()  \n",
    "np.save('q_table.npy', q_table)"
   ]
  },
  {
   "cell_type": "markdown",
   "id": "27d134c0-da1b-4266-a639-447a11641f6c",
   "metadata": {},
   "source": [
    "# Visualizing trained agent "
   ]
  },
  {
   "cell_type": "code",
   "execution_count": 27,
   "id": "3fa53c9d-5dca-4a79-a1a3-8a7c88fd6304",
   "metadata": {
    "tags": []
   },
   "outputs": [
    {
     "data": {
      "image/png": "[encoded data removed]",
      "text/plain": [
       "<Figure size 640x480 with 1 Axes>"
      ]
     },
     "metadata": {},
     "output_type": "display_data"
    }
   ],
   "source": [
    "plt.plot(epoch_plot_tracker, total_reward_plot_tracker)\n",
    "plt.xlabel('Epoch')\n",
    "plt.ylabel('Reward')\n",
    "plt.title('Reward vs Epoch')\n",
    "plt.grid()\n",
    "plt.show()"
   ]
  },
  {
   "cell_type": "code",
   "execution_count": 28,
   "id": "7a73bbb3-0faf-4113-8c86-f1c1494b8ec6",
   "metadata": {
    "tags": []
   },
   "outputs": [],
   "source": [
    "# Reinitialize the environment \n",
    "env=gym.make('FrozenLake-v1', desc=None, map_name=\"4x4\", is_slippery=False,render_mode='human')"
   ]
  },
  {
   "cell_type": "code",
   "execution_count": 29,
   "id": "4557d18b-5b88-496a-a333-52826c340ad3",
   "metadata": {
    "tags": []
   },
   "outputs": [
    {
     "name": "stdout",
     "output_type": "stream",
     "text": [
      "reward at round: 1 is = 1.0\n",
      "reward at round: 2 is = 1.0\n",
      "reward at round: 3 is = 1.0\n",
      "reward at round: 4 is = 1.0\n",
      "reward at round: 5 is = 1.0\n"
     ]
    }
   ],
   "source": [
    "q_table = np.load('q_table_saved_2.npy')\n",
    "state,info = env.reset()\n",
    "reward=0\n",
    "round=0\n",
    "for steps in range(30):\n",
    "    env.render()\n",
    "    action = np.argmax(q_table[state,:])\n",
    "    state,reward,truncated,terminated,info = env.step(action)\n",
    "    \n",
    "    time.sleep(1)    \n",
    "    if truncated or terminated:\n",
    "        round += 1\n",
    "        print(f\"reward at round: {round} is = {reward}\")\n",
    "        state,info = env.reset()\n",
    "env.close()"
   ]
  },
  {
   "cell_type": "markdown",
   "id": "64cad4a5-1ade-435b-aa3e-7bd2d03274ab",
   "metadata": {},
   "source": [
    "# Thank You for attending todays CSM Socials "
   ]
  }
 ],
 "metadata": {
  "kernelspec": {
   "display_name": "Python 3 (ipykernel)",
   "language": "python",
   "name": "python3"
  },
  "language_info": {
   "codemirror_mode": {
    "name": "ipython",
    "version": 3
   },
   "file_extension": ".py",
   "mimetype": "text/x-python",
   "name": "python",
   "nbconvert_exporter": "python",
   "pygments_lexer": "ipython3",
   "version": "3.9.16"
  }
 },
 "nbformat": 4,
 "nbformat_minor": 5
}
