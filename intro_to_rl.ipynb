{
 "cells": [
  {
   "cell_type": "markdown",
   "id": "d4fa94af-b310-4162-be72-95a00f646158",
   "metadata": {},
   "source": [
    "# Lesson Outline\n",
    "- Brief Intro to Reinforcement Learning\n",
    "- What is Gymnasium\n",
    "- Frozen Lake Challenge\n",
    "- Q Learning\n",
    "- The Exploration and Exploitation Dilemma\n",
    "- Extra (Deep Reinforcement Learning)\n",
    "\n"
   ]
  },
  {
   "cell_type": "markdown",
   "id": "00985a99-f9af-4aaa-aa1c-49eb8b678889",
   "metadata": {},
   "source": [
    "| ![image](images/intro_image.png \"Intro_to_RL\") |\n",
    "|:---:|\n"
   ]
  },
  {
   "cell_type": "markdown",
   "id": "f9b16f37-7ba6-44c3-bcbd-1b5a3ddb96b2",
   "metadata": {},
   "source": [
    "#                                                                                                       <div align=\"center\">The Frozen Lake chalenge</div>"
   ]
  },
  {
   "cell_type": "markdown",
   "id": "74b54399-33b9-4ae4-89ff-c46df4e9ba27",
   "metadata": {},
   "source": [
    "<div style=\"text-align: center;\">\n",
    "  <img src=\"images/frozen_lake.png\" alt=\"Frozen Lake\" title=\"Frozen Lake\" width=\"500\" height=\"auto\" />\n",
    "</div>\n",
    "\n",
    "image source : https://medium.com/mlearning-ai/a-deep-dive-into-reinforcement-learning-q-learning-and-deep-q-learning-on-a-10x10-frozenlake-c76d56810a46\n",
    "Author : Nandan Grover"
   ]
  },
  {
   "cell_type": "code",
   "execution_count": 1,
   "id": "f25db668-fc63-4043-9f51-da6250e8c26b",
   "metadata": {},
   "outputs": [],
   "source": [
    "# to clone this repo git clone https://github.com/sokistar24/7088_cem_rl.git"
   ]
  },
  {
   "cell_type": "code",
   "execution_count": 8,
   "id": "d410ea45-0410-4978-ba17-14c2944061cc",
   "metadata": {},
   "outputs": [],
   "source": [
    "# Importing libraries\n",
    "# https://gymnasium.farama.org/\n",
    "import numpy as np \n",
    "import gymnasium as gym\n",
    "import  matplotlib.pyplot as plt\n",
    "import time"
   ]
  },
  {
   "cell_type": "code",
   "execution_count": 9,
   "id": "cdacc52a-7457-433f-92d3-08fad68cdbc1",
   "metadata": {},
   "outputs": [],
   "source": [
    "env=gym.make('FrozenLake-v1', desc=None, map_name=\"4x4\", is_slippery=False,render_mode='human')"
   ]
  },
  {
   "cell_type": "code",
   "execution_count": 32,
   "id": "be80f046-51bf-4912-98c2-3f5ce1df05ef",
   "metadata": {},
   "outputs": [],
   "source": [
    "env.reset()\n",
    "for step in range(50):\n",
    "    \n",
    "    env.render()\n",
    "    action = env.action_space.sample() # \n",
    "    observation,reward,terminated,truncated,info = env.step(action)\n",
    "    time.sleep(0.5)\n",
    "    if terminated or truncated:\n",
    "        env.reset()\n",
    "env.close()\n"
   ]
  },
  {
   "cell_type": "markdown",
   "id": "0ef2c1a4-69c0-4d4d-833f-3bbebe10a87e",
   "metadata": {},
   "source": [
    "# <div align=\"center\">Initializing and updating the Q-table</div>\n"
   ]
  },
  {
   "cell_type": "markdown",
   "id": "238ed36c-9107-4512-9dff-63875446ba08",
   "metadata": {},
   "source": [
    "<div style=\"text-align: center;\">\n",
    "  <img src=\"images/Q_table_initial.png\" alt=\"Frozen Lake\" title=\"Frozen Lake\" width=\"500\" height=\"auto\" />\n",
    "</div>\n"
   ]
  },
  {
   "cell_type": "code",
   "execution_count": 10,
   "id": "48b220d3-f201-4c79-b7ef-0da1aed34909",
   "metadata": {},
   "outputs": [],
   "source": [
    "# initialize the Q table to zero with size of the states and actions\n",
    "Q = np.zeros([env.observation_space.n,env.action_space.n])"
   ]
  },
  {
   "cell_type": "code",
   "execution_count": 11,
   "id": "38f975c6-7cca-49bd-9f5d-47aa89fa846d",
   "metadata": {},
   "outputs": [
    {
     "name": "stdout",
     "output_type": "stream",
     "text": [
      "[[0. 0. 0. 0.]\n",
      " [0. 0. 0. 0.]\n",
      " [0. 0. 0. 0.]\n",
      " [0. 0. 0. 0.]\n",
      " [0. 0. 0. 0.]\n",
      " [0. 0. 0. 0.]\n",
      " [0. 0. 0. 0.]\n",
      " [0. 0. 0. 0.]\n",
      " [0. 0. 0. 0.]\n",
      " [0. 0. 0. 0.]\n",
      " [0. 0. 0. 0.]\n",
      " [0. 0. 0. 0.]\n",
      " [0. 0. 0. 0.]\n",
      " [0. 0. 0. 0.]\n",
      " [0. 0. 0. 0.]\n",
      " [0. 0. 0. 0.]]\n"
     ]
    }
   ],
   "source": [
    "\n",
    "print (Q)\n",
    "# a numpy arrays of zeros"
   ]
  },
  {
   "cell_type": "markdown",
   "id": "156f4f54-b63e-4a5e-88c9-9c1b47a41ca7",
   "metadata": {},
   "source": [
    "$$\n",
    "Q(s_t, a_t) = R_{t+1} + \n",
    "\\boxed{\n",
    "\\begin{array}{l}\n",
    "\\gamma \\cdot R_{t+2} + \n",
    "\\gamma^2 \\cdot R_{t+3} + \n",
    "\\gamma^3 \\cdot R_{t+4} + \n",
    "\\cdots\n",
    "\\end{array}\n",
    "}\n",
    "$$\n"
   ]
  },
  {
   "cell_type": "markdown",
   "id": "1f02ab2d-738a-4614-8392-c489b310982a",
   "metadata": {},
   "source": [
    "$$\n",
    "Q(s_{t+1}, a_{t+1}) = R_{t+2} + \n",
    "\\boxed{\n",
    "\\begin{array}{l}\n",
    "\\gamma \\cdot R_{t+3} + \n",
    "\\gamma^2 \\cdot R_{t+4} + \n",
    "\\gamma^3 \\cdot R_{t+5} + \n",
    "\\cdots\n",
    "\\end{array}\n",
    "}\n",
    "$$\n"
   ]
  },
  {
   "cell_type": "markdown",
   "id": "7a9948b2-e142-46b6-8f01-2f72d1a920ff",
   "metadata": {},
   "source": [
    "$$\n",
    "{Q(s_t, a_t) =  \\sum_{k=0}^{\\infty} \\gamma^{k} R_{t+k+1}}\n",
    "$$\n"
   ]
  },
  {
   "cell_type": "markdown",
   "id": "27b29a52-0623-4cfb-88cd-0b1eb4b19e09",
   "metadata": {},
   "source": [
    "$$\n",
    "Q(s_t, a_t) = R_{t+1} + \n",
    "\\boxed{\n",
    "\\begin{array}{l}\n",
    "\\gamma \\cdot Q(s_{t+1}, a_{t+1})  \n",
    "\\end{array}\n",
    "}\n",
    "$$\n"
   ]
  },
  {
   "cell_type": "markdown",
   "id": "20d407a0-fae3-4c98-99b6-fcc9f3e348e9",
   "metadata": {},
   "source": [
    "$$\n",
    "Q_{\\text{target}}(s_t, a_t) = R_{t+1} + \\gamma \\max_{a} Q(s_{t+1}, a)\n",
    "$$"
   ]
  },
  {
   "cell_type": "markdown",
   "id": "b6be84d9-269c-4df0-b1f2-ca83807ec088",
   "metadata": {},
   "source": [
    "$$\n",
    "Q(s_t, a_t) \\leftarrow Q(s_t, a_t) + \\alpha [r_{t+1} + \\gamma \\max_{a} Q(s_{t+1}, a) - Q(s_t, a_t)]\n",
    "$$\n"
   ]
  },
  {
   "cell_type": "markdown",
   "id": "8e4b5d93-5d9f-4897-9288-0308a035deb4",
   "metadata": {},
   "source": [
    "$$\n",
    "Q(s_t, a_t) \\leftarrow Q(s_t, a_t) + \\alpha [ \n",
    "\\boxed{\n",
    "\\begin{array}{l}\n",
    "R_{t+1} +\\gamma \\max_{a} Q(s_{t+1}, a)\n",
    "\\end{array}\n",
    "}\n",
    "- Q(s_t, a_t)]\n",
    "$$\n"
   ]
  },
  {
   "cell_type": "markdown",
   "id": "1ad24b6d-beb6-48dd-8ac0-8d1e1f60cb64",
   "metadata": {},
   "source": [
    "$$\n",
    "Q_{new} \\leftarrow Q_{current} +\\alpha( error)\n",
    "$$"
   ]
  },
  {
   "cell_type": "markdown",
   "id": "5660a456-bb71-4fdf-91df-e66f80e5edd2",
   "metadata": {},
   "source": [
    "$$\n",
    "Q_{new} \\leftarrow Q_{current} +\\alpha[Q_{target}-Q_{current}]\n",
    "$$"
   ]
  },
  {
   "cell_type": "markdown",
   "id": "c48b943f-11cc-4964-a4bf-da75c5d4e0ed",
   "metadata": {},
   "source": [
    "$$\n",
    "Q(s_t, a_t) \\leftarrow Q(s_t, a_t) + \\alpha [R_{t+1} +\\gamma \\max_{a} Q(s_{t+1}, a)- Q(s_t, a_t)]\n",
    "$$\n"
   ]
  },
  {
   "cell_type": "markdown",
   "id": "305c81b9-ec08-4ef7-b7f1-ab9a574d6ebc",
   "metadata": {},
   "source": [
    "<div style=\"text-align: center;\">\n",
    "  <img src=\"images/Goal_state.png\" alt=\"Frozen Lake\" title=\"Frozen Lake\" width=\"500\" height=\"auto\" />\n",
    "</div>\n"
   ]
  },
  {
   "cell_type": "markdown",
   "id": "ce00e9c0-b408-4ba0-b2ff-5382b368195c",
   "metadata": {},
   "source": [
    "# Exploitation versus Exploration tradeoff"
   ]
  },
  {
   "cell_type": "markdown",
   "id": "62dc6b4f-cd1e-431c-9205-aeef6a9c011f",
   "metadata": {},
   "source": [
    "$$\n",
    "a_t =\n",
    "\\begin{cases}\n",
    "\\text{argmax}_{a} Q(s_t, a), & \\text{with probability } 1 - \\epsilon_t \\\\\n",
    "\\text{random action}, & \\text{with probability } \\epsilon_t\n",
    "\\end{cases}\n",
    "$$\n"
   ]
  },
  {
   "cell_type": "code",
   "execution_count": 12,
   "id": "b35cf8e2-4654-4a1e-b208-1c622446868e",
   "metadata": {},
   "outputs": [],
   "source": [
    "def epsilon_greedy_action_selection(epsilon,Q,state):\n",
    "    \n",
    "    random_number = np.random.random()\n",
    "    if random_number > epsilon:\n",
    "        action = np.argmax(Q[state,:])\n",
    "    else:\n",
    "        action = env.action_space.sample()\n",
    "    return action"
   ]
  },
  {
   "cell_type": "markdown",
   "id": "928e83c5-97ed-4c0a-8581-62b9436070f6",
   "metadata": {},
   "source": [
    "$$\n",
    "\\epsilon_t = \\epsilon_{\\text{min}} + (\\epsilon_{\\text{max}} - \\epsilon_{\\text{min}}) \\cdot e^{-\\text{decay rate} \\cdot t}\n",
    "$$"
   ]
  },
  {
   "cell_type": "code",
   "execution_count": 13,
   "id": "183e8d9a-30e6-4b8b-a288-bcfdf2962b56",
   "metadata": {},
   "outputs": [],
   "source": [
    "epsilon = 1.0\n",
    "max_epsilon = 1.0\n",
    "min_epsilon = 0.01\n",
    "decay_rate = 0.01\n",
    "epoch = 20000"
   ]
  },
  {
   "cell_type": "code",
   "execution_count": 14,
   "id": "f9e06e75-230b-4341-938e-36a2bad43ca6",
   "metadata": {},
   "outputs": [],
   "source": [
    "#function to reduce the exploration\n",
    "def reduce_epsilon(epsilon,epoch):\n",
    "    \n",
    "    return min_epsilon + (max_epsilon-min_epsilon)*np.exp(-decay_rate * epoch)"
   ]
  },
  {
   "cell_type": "code",
   "execution_count": 15,
   "id": "5b1d51d9-26eb-4cc6-90b7-f06780eca41d",
   "metadata": {},
   "outputs": [
    {
     "data": {
      "image/png": "[encoded data removed]",
      "text/plain": [
       "<Figure size 640x480 with 1 Axes>"
      ]
     },
     "metadata": {},
     "output_type": "display_data"
    }
   ],
   "source": [
    "\n",
    "epochs = np.arange(1, 500)\n",
    "epsilons = [reduce_epsilon(epsilon, epoch) for epoch in epochs]\n",
    "\n",
    "plt.plot(epochs, epsilons)\n",
    "plt.xlabel('Epoch')\n",
    "plt.ylabel('Epsilon')\n",
    "plt.title('exploration vs time')\n",
    "plt.grid()\n",
    "plt.show()\n",
    "\n"
   ]
  },
  {
   "cell_type": "code",
   "execution_count": 16,
   "id": "68add5ef-6604-4f8e-8695-b422e4558123",
   "metadata": {},
   "outputs": [],
   "source": [
    "# Learning parameters\n",
    "Alpha = 0.8 # Learning rate\n",
    "Gamma = 0.9 # discount factor \n"
   ]
  },
  {
   "cell_type": "code",
   "execution_count": 17,
   "id": "896a7a5a-4d8f-457a-b7cd-e42aa2eaef73",
   "metadata": {},
   "outputs": [],
   "source": [
    "env=gym.make('FrozenLake-v1', desc=None, map_name=\"4x4\", is_slippery=False)"
   ]
  },
  {
   "cell_type": "code",
   "execution_count": 19,
   "id": "496279cd-b0d5-4f25-bb3a-afc67952dd7e",
   "metadata": {},
   "outputs": [
    {
     "name": "stdout",
     "output_type": "stream",
     "text": [
      "total cumulative rewards at episode 0 is 0.0\n",
      "total cumulative rewards at episode 500 is 370.0\n",
      "total cumulative rewards at episode 1000 is 859.0\n",
      "total cumulative rewards at episode 1500 is 1358.0\n",
      "total cumulative rewards at episode 2000 is 1849.0\n",
      "total cumulative rewards at episode 2500 is 2337.0\n",
      "total cumulative rewards at episode 3000 is 2831.0\n",
      "total cumulative rewards at episode 3500 is 3318.0\n",
      "total cumulative rewards at episode 4000 is 3815.0\n",
      "total cumulative rewards at episode 4500 is 4306.0\n",
      "total cumulative rewards at episode 5000 is 4800.0\n",
      "total cumulative rewards at episode 5500 is 5295.0\n",
      "total cumulative rewards at episode 6000 is 5784.0\n",
      "total cumulative rewards at episode 6500 is 6273.0\n",
      "total cumulative rewards at episode 7000 is 6770.0\n",
      "total cumulative rewards at episode 7500 is 7264.0\n",
      "total cumulative rewards at episode 8000 is 7753.0\n",
      "total cumulative rewards at episode 8500 is 8247.0\n",
      "total cumulative rewards at episode 9000 is 8739.0\n",
      "total cumulative rewards at episode 9500 is 9229.0\n",
      "total cumulative rewards at episode 10000 is 9724.0\n",
      "total cumulative rewards at episode 10500 is 10216.0\n",
      "total cumulative rewards at episode 11000 is 10710.0\n",
      "total cumulative rewards at episode 11500 is 11206.0\n",
      "total cumulative rewards at episode 12000 is 11700.0\n",
      "total cumulative rewards at episode 12500 is 12192.0\n",
      "total cumulative rewards at episode 13000 is 12689.0\n",
      "total cumulative rewards at episode 13500 is 13182.0\n",
      "total cumulative rewards at episode 14000 is 13677.0\n",
      "total cumulative rewards at episode 14500 is 14173.0\n",
      "total cumulative rewards at episode 15000 is 14666.0\n",
      "total cumulative rewards at episode 15500 is 15160.0\n",
      "total cumulative rewards at episode 16000 is 15655.0\n",
      "total cumulative rewards at episode 16500 is 16146.0\n",
      "total cumulative rewards at episode 17000 is 16639.0\n",
      "total cumulative rewards at episode 17500 is 17136.0\n",
      "total cumulative rewards at episode 18000 is 17628.0\n",
      "total cumulative rewards at episode 18500 is 18118.0\n",
      "total cumulative rewards at episode 19000 is 18615.0\n",
      "total cumulative rewards at episode 19500 is 19109.0\n"
     ]
    }
   ],
   "source": [
    "# Training loop\n",
    "episodes = 20000\n",
    "rewards = []\n",
    "cum_reward=0\n",
    "for episode in range(episodes):\n",
    "    # initialize the environment \n",
    "    \n",
    "    state,info = env.reset()\n",
    "\n",
    "    truncated = False\n",
    "    terminated = False\n",
    "    #reward = 0 # cummulative reward\n",
    "        \n",
    "    while not truncated or terminated:\n",
    "        \"\"\"\n",
    "        if np.random.random()<epsilon:\n",
    "            action = env.action_space.sample()\n",
    "        else:\n",
    "            action = np.argmax(Q[state,:])\n",
    "        \"\"\"\n",
    "        action = epsilon_greedy_action_selection(epsilon,Q,state)\n",
    "        next_state,reward,truncated,terminated,info = env.step(action)\n",
    "        # calculate the Q- value\n",
    "        Q[state,action] = Q[state,action] + Alpha*(reward + Gamma*np.max(Q[next_state,:])- Q[state,action])                                     \n",
    "        state = next_state \n",
    "        cum_reward += reward \n",
    "        #print(reward)\n",
    "        if episode%500 ==0 :\n",
    "            print(f'total cumulative rewards at episode {episode} is {cum_reward}')\n",
    "            #rewards.append(cum_reward)\n",
    "            break\n",
    "    epsilon = reduce_epsilon(epsilon,episode)\n",
    "    rewards.append(cum_reward)    \n",
    "    \n",
    "env.close()  \n",
    "np.save('Q.npy', Q)"
   ]
  },
  {
   "cell_type": "code",
   "execution_count": 59,
   "id": "54e7252b-3adf-44d0-be9c-073d326e1660",
   "metadata": {},
   "outputs": [
    {
     "data": {
      "text/plain": [
       "Text(0.5, 1.0, 'reward vs episode')"
      ]
     },
     "execution_count": 59,
     "metadata": {},
     "output_type": "execute_result"
    },
    {
     "data": {
      "image/png": "[encoded data removed]",
      "text/plain": [
       "<Figure size 640x480 with 1 Axes>"
      ]
     },
     "metadata": {},
     "output_type": "display_data"
    }
   ],
   "source": [
    "\n",
    "plt.plot(range(episodes),rewards)\n",
    "plt.xlabel('episode')\n",
    "plt.ylabel('reward')\n",
    "plt.title('reward vs episode')"
   ]
  },
  {
   "cell_type": "markdown",
   "id": "39af7615-da20-4a90-b1ef-2142fadc6fc9",
   "metadata": {},
   "source": [
    "# Visualising trained agent"
   ]
  },
  {
   "cell_type": "code",
   "execution_count": 20,
   "id": "818a897b-7660-4f6c-8473-f6580ecc8653",
   "metadata": {},
   "outputs": [],
   "source": [
    "# Reinitialize the environment \n",
    "env=gym.make('FrozenLake-v1', desc=None, map_name=\"4x4\", is_slippery=False,render_mode='human')"
   ]
  },
  {
   "cell_type": "code",
   "execution_count": 21,
   "id": "a28c2a7e-8b65-497a-a4ab-6504a73ebe66",
   "metadata": {},
   "outputs": [
    {
     "name": "stdout",
     "output_type": "stream",
     "text": [
      "reward at round: 1 is = 1.0\n",
      "reward at round: 2 is = 1.0\n",
      "reward at round: 3 is = 1.0\n",
      "reward at round: 4 is = 1.0\n",
      "reward at round: 5 is = 1.0\n"
     ]
    }
   ],
   "source": [
    "q_table = np.load('Q.npy')\n",
    "state,info = env.reset()\n",
    "reward=0\n",
    "round=0\n",
    "for steps in range(30):\n",
    "    env.render()\n",
    "    action = np.argmax(q_table[state,:])\n",
    "    state,reward,truncated,terminated,info = env.step(action)\n",
    "    \n",
    "    time.sleep(1)    \n",
    "    if truncated or terminated:\n",
    "        round += 1\n",
    "        print(f\"reward at round: {round} is = {reward}\")\n",
    "        state,info = env.reset()\n",
    "env.close()"
   ]
  },
  {
   "cell_type": "markdown",
   "id": "52821c25-bfa1-4c70-adb8-9ca8746682a9",
   "metadata": {},
   "source": [
    "# TODO change the grid to 10 x 10\n",
    "# TODO try different exploration strategy\n",
    "# TODO vary the learning rate and discount factor\n",
    "# Make the environment stochastic"
   ]
  },
  {
   "cell_type": "markdown",
   "id": "d2965242-b212-4864-a629-01fc10777adb",
   "metadata": {},
   "source": [
    "# Explore further "
   ]
  },
  {
   "cell_type": "markdown",
   "id": "ec00d30b-9ab9-4fe8-b6bd-60206c8e3811",
   "metadata": {},
   "source": [
    "# Apply DQN to compare performance"
   ]
  },
  {
   "cell_type": "code",
   "execution_count": null,
   "id": "2c99e26a-58a1-4ee7-a469-d5b07519643e",
   "metadata": {},
   "outputs": [],
   "source": []
  }
 ],
 "metadata": {
  "kernelspec": {
   "display_name": "Python 3 (ipykernel)",
   "language": "python",
   "name": "python3"
  },
  "language_info": {
   "codemirror_mode": {
    "name": "ipython",
    "version": 3
   },
   "file_extension": ".py",
   "mimetype": "text/x-python",
   "name": "python",
   "nbconvert_exporter": "python",
   "pygments_lexer": "ipython3",
   "version": "3.9.16"
  }
 },
 "nbformat": 4,
 "nbformat_minor": 5
}
